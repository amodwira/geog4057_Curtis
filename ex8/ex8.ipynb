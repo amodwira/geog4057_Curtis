{
 "cells": [
  {
   "cell_type": "markdown",
   "id": "776c33b9-fa24-41e8-8235-7ee62ee4e04a",
   "metadata": {},
   "source": [
    "## CURTIS AMO DWIRA - ASSIGNMENT 8"
   ]
  },
  {
   "cell_type": "markdown",
   "id": "a51c89b4",
   "metadata": {},
   "source": [
    "### Manipulating Data in VS Code"
   ]
  },
  {
   "cell_type": "code",
   "execution_count": 1,
   "id": "ffa0bb93",
   "metadata": {},
   "outputs": [
    {
     "name": "stdout",
     "output_type": "stream",
     "text": [
      "C:\\Users\\cdwira1\\Downloads\\ex8\\Austin_Data.gdb\n"
     ]
    }
   ],
   "source": [
    "import arcpy\n",
    "import os\n",
    "pathname = r\"C:\\Users\\cdwira1\\Downloads\\ex8\"\n",
    "aprx = arcpy.mp.ArcGISProject(os.path.join(pathname,\"Austin.aprx\"))\n",
    "print(aprx.defaultGeodatabase)"
   ]
  },
  {
   "cell_type": "markdown",
   "id": "a829f7df",
   "metadata": {},
   "source": [
    "### Saving a copy"
   ]
  },
  {
   "cell_type": "code",
   "execution_count": 2,
   "id": "447abc6e",
   "metadata": {},
   "outputs": [],
   "source": [
    "aprx.saveACopy(os.path.join(pathname,'Austin_Copy.aprx'))"
   ]
  },
  {
   "cell_type": "markdown",
   "id": "39489fb8",
   "metadata": {},
   "source": [
    "### Examining the New Project File"
   ]
  },
  {
   "cell_type": "markdown",
   "id": "6ec5fdbe",
   "metadata": {},
   "source": [
    "##### The size of the new project file created compared to the original file has reduced from 60KB to 48KB but the contents in both files are the same. This is because, the  original file stores some temporary undo/redo and edit history. The saveACopy() does not copy that session data—resulting in a smaller file. This function re-optimizes the project content, removing bloated or redundant storage.\n",
    "\n"
   ]
  },
  {
   "cell_type": "markdown",
   "id": "3f6c0a31",
   "metadata": {},
   "source": [
    "### Work with Maps"
   ]
  },
  {
   "cell_type": "markdown",
   "id": "5e9e51c0-305d-4c9a-9ac1-2a55d32a3064",
   "metadata": {},
   "source": [
    "#### Use the following code to print a list of maps in the project "
   ]
  },
  {
   "cell_type": "code",
   "execution_count": 3,
   "id": "8614444e-90cf-4e10-bcc0-70c256109715",
   "metadata": {},
   "outputs": [
    {
     "name": "stdout",
     "output_type": "stream",
     "text": [
      "Downtown\n",
      "Foot_US\n",
      "Region\n",
      "Foot_US\n"
     ]
    }
   ],
   "source": [
    "aprx = arcpy.mp.ArcGISProject('CURRENT')\n",
    "maps = aprx.listMaps()\n",
    "for m in maps:\n",
    "    print(m.name)\n",
    "    print(m.mapUnits)\n",
    "del aprx"
   ]
  },
  {
   "cell_type": "markdown",
   "id": "7f33c9e4-0ff2-4699-817a-1c2a05dcae1b",
   "metadata": {},
   "source": [
    "##### The del statement deletes the aprx object from memory in your Python environment. When del is used, you are removing the reference, not deleting the actual .aprx file"
   ]
  },
  {
   "cell_type": "markdown",
   "id": "4f0fe6f3-cbec-499c-84a1-9eb8b32e9d54",
   "metadata": {},
   "source": [
    "#### Use the following code to change the name of a map "
   ]
  },
  {
   "cell_type": "code",
   "execution_count": 4,
   "id": "97fcb324-70a0-4054-b584-90202ebcd981",
   "metadata": {},
   "outputs": [],
   "source": [
    "aprx = arcpy.mp.ArcGISProject('CURRENT')\n",
    "m = aprx.listMaps(\"Region\")[0]\n",
    "m.name = \"County\"\n",
    "del aprx"
   ]
  },
  {
   "cell_type": "markdown",
   "id": "fc890cb8-d9b9-4cbe-ad5f-d0c3a12fa928",
   "metadata": {},
   "source": [
    "#### Use the following code to list the layers in a map"
   ]
  },
  {
   "cell_type": "code",
   "execution_count": 5,
   "id": "b85153e5-912a-4886-90d6-3c3906f33a42",
   "metadata": {},
   "outputs": [
    {
     "name": "stdout",
     "output_type": "stream",
     "text": [
      "Map: Downtown\n",
      "trees\n",
      "parks\n",
      "base\n",
      "Topographic\n",
      "Map: County\n",
      "facilities\n",
      "hospitals\n",
      "parks\n",
      "Topographic\n"
     ]
    }
   ],
   "source": [
    "aprx = arcpy.mp.ArcGISProject('CURRENT')\n",
    "maps = aprx.listMaps()\n",
    "for m in maps:\n",
    "    print(\"Map: \" + m.name)\n",
    "    lyrs = m.listLayers()\n",
    "    for lyr in lyrs:\n",
    "        print(lyr.name)\n",
    "del aprx"
   ]
  },
  {
   "cell_type": "markdown",
   "id": "52c4faec-b42d-44d3-b18f-93412005632f",
   "metadata": {},
   "source": [
    "#### Using the Print to Check if a layer is a basemap or a feature layer"
   ]
  },
  {
   "cell_type": "code",
   "execution_count": 6,
   "id": "b3c8b1cc-1acd-4861-9928-aa80b837ca4e",
   "metadata": {},
   "outputs": [
    {
     "name": "stdout",
     "output_type": "stream",
     "text": [
      "trees is a feature layer\n",
      "parks is a feature layer\n",
      "base is a feature layer\n",
      "Topographic is a basemap layer\n"
     ]
    }
   ],
   "source": [
    "aprx = arcpy.mp.ArcGISProject('CURRENT')\n",
    "m = aprx.listMaps(\"Downtown\")[0]\n",
    "lyrs = m.listLayers()\n",
    "for lyr in lyrs:\n",
    "    if lyr.isBasemapLayer:\n",
    "        print(lyr.name + \" is a basemap layer\")\n",
    "    if lyr.isFeatureLayer:\n",
    "        print(lyr.name + \" is a feature layer\")\n",
    "del aprx"
   ]
  },
  {
   "cell_type": "markdown",
   "id": "8053dbe5-9cd7-45b1-b014-2690763622bb",
   "metadata": {},
   "source": [
    "#### Use the following code to change the basemap of Downtown"
   ]
  },
  {
   "cell_type": "code",
   "execution_count": 7,
   "id": "9d0adf7e-e237-4de7-b6dc-0eae96646b80",
   "metadata": {},
   "outputs": [],
   "source": [
    "aprx = arcpy.mp.ArcGISProject('CURRENT')\n",
    "m = aprx.listMaps(\"Downtown\")[0]\n",
    "m.addBasemap(\"Light Gray Canvas\")"
   ]
  },
  {
   "cell_type": "markdown",
   "id": "771bda3e-986f-4cf3-acb3-a608293fcf49",
   "metadata": {},
   "source": [
    "### Work with layers"
   ]
  },
  {
   "cell_type": "markdown",
   "id": "4f72d084-c388-46e2-8653-bf9442544a05",
   "metadata": {},
   "source": [
    "#### Modify layer symbology"
   ]
  },
  {
   "cell_type": "code",
   "execution_count": 8,
   "id": "8b1d45fe-e8a0-4e61-8481-f468b1b8141e",
   "metadata": {},
   "outputs": [],
   "source": [
    "aprx = arcpy.mp.ArcGISProject(\"CURRENT\")\n",
    "m = aprx.listMaps(\"Downtown\")[0]\n",
    "lyr = m.listLayers(\"parks\")[0]\n",
    "sym = lyr.symbology\n",
    "green = {\"RGB\": [100, 175, 0, 100]}\n",
    "if lyr.isFeatureLayer and hasattr(sym, \"renderer\"):\n",
    "    sym.renderer.symbol.color = green\n",
    "    lyr.symbology = sym"
   ]
  },
  {
   "cell_type": "markdown",
   "id": "d986ec6b-41e1-4051-aa37-86fa047fcd2b",
   "metadata": {},
   "source": [
    "#### The numbers in the list represent;\n",
    "- Red = 100\n",
    "\n",
    "- Green = 175\n",
    "\n",
    "- Blue = 0\n",
    "\n",
    "- Alpha (transparency) = 100 (fully opaque)\n",
    "\n",
    "#### To change the color to brown, you use; brown = {[150, 75, 0, 100]}"
   ]
  },
  {
   "cell_type": "code",
   "execution_count": 9,
   "id": "a3397630-d444-4cd2-963a-218e8c1cd87c",
   "metadata": {},
   "outputs": [],
   "source": [
    "aprx = arcpy.mp.ArcGISProject(\"CURRENT\")\n",
    "m = aprx.listMaps(\"Downtown\")[0]\n",
    "lyr = m.listLayers(\"parks\")[0]\n",
    "sym = lyr.symbology\n",
    "brown = {\"RGB\": [150, 75, 0, 100]}\n",
    "if lyr.isFeatureLayer and hasattr(sym, \"renderer\"):\n",
    "    sym.renderer.symbol.color = green\n",
    "    lyr.symbology = sym"
   ]
  },
  {
   "cell_type": "markdown",
   "id": "0f0c9bb2-9483-4c25-8224-5cd20d5434a6",
   "metadata": {},
   "source": [
    "### Work with a layout"
   ]
  },
  {
   "cell_type": "markdown",
   "id": "23ca1b07-53c6-485a-95ad-7a16a7275679",
   "metadata": {},
   "source": [
    "#### Add a layout to the project"
   ]
  },
  {
   "cell_type": "code",
   "execution_count": 10,
   "id": "8ccd5b95-72e5-47a8-99cd-8593f35a526f",
   "metadata": {},
   "outputs": [],
   "source": [
    "m = aprx.listMaps(\"Downtown\")[0]\n",
    "\n",
    "lyt = aprx.createLayout( 11,8.5, 'INCH', 'New Layout with Rectangles')\n",
    "\n",
    "def MakeRec_LL(llx, lly, w, h):\n",
    "    xyRecList = [[llx, lly], [llx, lly+h], [llx+w,lly+h], [llx+w,lly], [llx,lly]]\n",
    "    array = arcpy.Array([arcpy.Point(*coords) for coords in xyRecList])\n",
    "    rec = arcpy.Polygon(array)\n",
    "    return rec\n",
    "\n",
    "mf = lyt.createMapFrame(MakeRec_LL(0.5,0.5,10,7.5), m, \"New Map Frame\")"
   ]
  },
  {
   "cell_type": "markdown",
   "id": "55f62f14-bcec-4861-9d5c-f98d5e41a9e2",
   "metadata": {},
   "source": [
    "##### The size of layout in inches is 11 inches (width) × 8.5 inches (height)"
   ]
  },
  {
   "cell_type": "markdown",
   "id": "503619c8-0f5e-4a84-8ca0-f15b70bb84f2",
   "metadata": {},
   "source": [
    "##### The size of map frame is 10 inches (width) × 7.5 inches (height)"
   ]
  },
  {
   "cell_type": "markdown",
   "id": "a120d9bc-4f96-4b1c-9134-e96c5d6d4f8e",
   "metadata": {},
   "source": [
    "##### The advantages of creating layout in Python are;\n",
    "- Useful for batch processing\n",
    "- Can be used in tools and scripts\n",
    "- Fast and repeatable\n",
    "- Scales for large projects are not prone to human errors"
   ]
  },
  {
   "cell_type": "markdown",
   "id": "23e87c8e-02de-494a-9b43-94fc186e77e2",
   "metadata": {},
   "source": [
    "### Add layout elements"
   ]
  },
  {
   "cell_type": "markdown",
   "id": "71ac1f9b-074d-48c7-8a32-3a991a6303c8",
   "metadata": {},
   "source": [
    "#### Run the following code to create a north arrow and a scale bar"
   ]
  },
  {
   "cell_type": "code",
   "execution_count": 11,
   "id": "fb28d6c9-ed9b-448d-8c55-c24ca9e44926",
   "metadata": {},
   "outputs": [],
   "source": [
    "#Create a north arrow\n",
    "naStyle = aprx.listStyleItems('ArcGIS 2D', 'North_Arrow', 'Compass North 1')[0]\n",
    "na = lyt.createMapSurroundElement(arcpy.Point(9.5,7.5), 'North_Arrow', mf,\n",
    "                                      naStyle, \"Compass North Arrow\")\n",
    "na.elementWidth = 0.5  \n",
    "\n",
    "#Create a scale bar\n",
    "sbName = 'Double Alternating Scale Bar 1 Metric'\n",
    "sbStyle = aprx.listStyleItems('ArcGIS 2D', 'Scale_bar', sbName)[0]\n",
    "sbEnv = MakeRec_LL(5.5, 0.1, 4, 0.5)\n",
    "sb = lyt.createMapSurroundElement(sbEnv, 'Scale_bar', mf, sbStyle, 'New Scale Bar')"
   ]
  },
  {
   "cell_type": "markdown",
   "id": "84ed656c-be8f-4423-b901-3ee13b07ef8f",
   "metadata": {},
   "source": [
    "#### Run the follow code to create a legend"
   ]
  },
  {
   "cell_type": "code",
   "execution_count": 12,
   "id": "bde7321d-d07e-469d-b2d1-2d68b9be336c",
   "metadata": {},
   "outputs": [],
   "source": [
    "legSi = aprx.listStyleItems('ArcGIS 2D', 'LEGEND', 'Legend 3' )[0]\n",
    "leg = lyt.createMapSurroundElement(arcpy.Point(1,7), 'LEGEND', mf, legSi, 'New Legend Element')\n",
    "leg.elementWidth = 3\n",
    "leg.elementHeight = 3\n",
    "leg.fittingStrategy = 'AdjustFontSize'\n",
    "leg.columnCount = 1\n",
    "leg.title = 'Downtown'"
   ]
  },
  {
   "cell_type": "markdown",
   "id": "cf4d4b42-1e4b-47cc-b884-d9bfb38539ea",
   "metadata": {},
   "source": [
    "### Export the layout to a pdf "
   ]
  },
  {
   "cell_type": "markdown",
   "id": "0b5d8051-831c-4a80-bd11-297bb3e971d0",
   "metadata": {},
   "source": [
    "#### Run the following code to export the layout to a pdf file"
   ]
  },
  {
   "cell_type": "code",
   "execution_count": 13,
   "id": "fea9f2e9-88a9-4183-8c25-296dc28e9cfd",
   "metadata": {},
   "outputs": [
    {
     "data": {
      "text/plain": [
       "'C:\\\\Users\\\\cdwira1\\\\Downloads\\\\ex8\\\\downtown.pdf'"
      ]
     },
     "execution_count": 13,
     "metadata": {},
     "output_type": "execute_result"
    }
   ],
   "source": [
    "lyt.exportToPDF(os.path.join(pathname, 'downtown.pdf'))"
   ]
  }
 ],
 "metadata": {
  "kernelspec": {
   "display_name": "ArcGISPro",
   "language": "python",
   "name": "python3"
  },
  "language_info": {
   "file_extension": ".py",
   "mimetype": "text/x-python",
   "name": "python",
   "version": "3.11.10"
  }
 },
 "nbformat": 4,
 "nbformat_minor": 5
}
